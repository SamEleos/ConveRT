{
  "nbformat": 4,
  "nbformat_minor": 0,
  "metadata": {
    "colab": {
      "name": "text_classification.ipynb",
      "provenance": [],
      "collapsed_sections": []
    },
    "kernelspec": {
      "name": "python3",
      "display_name": "Python 3"
    }
  },
  "cells": [
    {
      "cell_type": "code",
      "metadata": {
        "id": "A3krAwd00cpW"
      },
      "source": [
        "!pip install conversational-sentence-encoder"
      ],
      "execution_count": null,
      "outputs": []
    },
    {
      "cell_type": "code",
      "metadata": {
        "id": "Yq_5kG_b0gTG"
      },
      "source": [
        "from conversational_sentence_encoder.vectorizers import SentenceEncoder\r\n",
        "\r\n",
        "from sklearn import preprocessing\r\n",
        "from sklearn.neighbors import KNeighborsClassifier"
      ],
      "execution_count": null,
      "outputs": []
    },
    {
      "cell_type": "code",
      "metadata": {
        "id": "xyid--QF6B8k"
      },
      "source": [
        "# texts\r\n",
        "X = [\"hello ? can i speak to a actual person ?\",\r\n",
        "\"i ll wait for a human to talk to me\",\r\n",
        "\"i d prefer to be speaking with a human .\",\r\n",
        "\"ok i m not talking to a real person so\",\r\n",
        "\"ok . this is an automated message . i need to speak with a real human\",\r\n",
        "\"hello . i m so sorry but i d like to return . can you send me instructions . thank you\",\r\n",
        "\"im sorry i m not sure you understand what i need but i need to return a package i got from you guys\",\r\n",
        "\"how can i return my order ? no one has gotten back to me on here or emails i sent !\",\r\n",
        "\"i can t wait that long . even if the order arrives i will send it back !\",\r\n",
        "\"i have a question what is your return policy ? i ordered the wrong size\"]\r\n",
        "\r\n",
        "# labels\r\n",
        "y = [\"SPEAK_HUMAN\"]*5+[\"RETURN\"]*5"
      ],
      "execution_count": null,
      "outputs": []
    },
    {
      "cell_type": "code",
      "metadata": {
        "id": "rqaOo4JP6FsN"
      },
      "source": [
        "# initialize the ConveRT dual-encoder model\r\n",
        "sentence_encoder = SentenceEncoder(multiple_contexts=False)\r\n",
        "\r\n",
        "# output 1024 dimensional vectors, giving a representation for each sentence. \r\n",
        "X_encoded = sentence_encoder.encode_sentences(X)\r\n",
        "\r\n",
        "# encode labels\r\n",
        "le = preprocessing.LabelEncoder()\r\n",
        "y_encoded = le.fit_transform(y)\r\n",
        "\r\n",
        "# fit the KNN classifier on the toy dataset\r\n",
        "clf = KNeighborsClassifier(n_neighbors=3).fit(X_encoded, y_encoded)\r\n",
        "\r\n",
        "\r\n",
        "test = sentence_encoder.encode_sentences([\"are you all bots???\", \r\n",
        "                                          \"i will send this trash back!\"])\r\n",
        "\r\n",
        "prediction = clf.predict(test)"
      ],
      "execution_count": null,
      "outputs": []
    },
    {
      "cell_type": "code",
      "metadata": {
        "id": "L6KWH2iY6JEk"
      },
      "source": [
        "# this will give the intents ['SPEAK_HUMAN' 'RETURN']\r\n",
        "print(le.inverse_transform(prediction))"
      ],
      "execution_count": null,
      "outputs": []
    }
  ]
}