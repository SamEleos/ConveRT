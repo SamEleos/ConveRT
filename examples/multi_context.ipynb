{
  "nbformat": 4,
  "nbformat_minor": 0,
  "metadata": {
    "colab": {
      "name": "multi_context.ipynb",
      "provenance": [],
      "collapsed_sections": []
    },
    "kernelspec": {
      "name": "python3",
      "display_name": "Python 3"
    }
  },
  "cells": [
    {
      "cell_type": "code",
      "metadata": {
        "id": "iiomSyY47lOF"
      },
      "source": [
        "!pip install conversational-sentence-encoder"
      ],
      "execution_count": null,
      "outputs": []
    },
    {
      "cell_type": "code",
      "metadata": {
        "id": "tDkXkkLT7pyy"
      },
      "source": [
        "import numpy as np\r\n",
        "from conversational_sentence_encoder.vectorizers import SentenceEncoder"
      ],
      "execution_count": null,
      "outputs": []
    },
    {
      "cell_type": "code",
      "metadata": {
        "id": "FIR6SvRn7tdu"
      },
      "source": [
        "# initialize the multi-context ConveRT model, that uses extra contexts from the conversational history to refine the context representations\r\n",
        "multicontext_encoder = SentenceEncoder(multiple_contexts=True)\r\n",
        "\r\n",
        "dialogue = np.array([\"hello\", \"hey\", \"how are you?\"])\r\n",
        "\r\n",
        "responses = np.array([\"where do you live?\", \"i am fine. you?\", \"i am glad to see you!\"])\r\n",
        "\r\n",
        "# outputs 512 dimensional vectors, giving the whole dialogue representation\r\n",
        "dialogue_encoded = multicontext_encoder.encode_multicontext(dialogue)\r\n",
        "\r\n",
        "# encode response candidates using the same model\r\n",
        "responses_encoded = multicontext_encoder.encode_responses(responses)"
      ],
      "execution_count": null,
      "outputs": []
    },
    {
      "cell_type": "code",
      "metadata": {
        "id": "BPlzBYIC71K1"
      },
      "source": [
        "# get the degree of response fit to the existing dialogue\r\n",
        "similarities = dialogue_encoded.dot(responses_encoded.T)"
      ],
      "execution_count": 4,
      "outputs": []
    },
    {
      "cell_type": "code",
      "metadata": {
        "id": "FNPZpRyW72R-"
      },
      "source": [
        "# find the best response\r\n",
        "best_idx = np.argmax(similarities)"
      ],
      "execution_count": 5,
      "outputs": []
    },
    {
      "cell_type": "code",
      "metadata": {
        "id": "DyCMsdcH73Td"
      },
      "source": [
        "# will output \"i am fine. you?\"\r\n",
        "print(responses[best_idx])"
      ],
      "execution_count": null,
      "outputs": []
    }
  ]
}